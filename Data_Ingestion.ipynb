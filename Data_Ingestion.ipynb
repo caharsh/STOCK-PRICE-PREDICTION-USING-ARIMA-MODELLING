{
 "cells": [
  {
   "cell_type": "markdown",
   "id": "45c141d6-b31e-4bda-be65-01b0d67578cd",
   "metadata": {},
   "source": [
    "# Data Ingestion"
   ]
  },
  {
   "cell_type": "code",
   "execution_count": 1,
   "id": "34a508eb-ee34-4799-91fe-cfb33ce0b983",
   "metadata": {},
   "outputs": [],
   "source": [
    "from IPython.display import display, HTML\n",
    "import pandas as pd\n",
    "import sqlite3\n",
    "from sqlite3 import Error\n",
    "\n",
    "def create_connection(db_file, delete_db=False):\n",
    "    import os\n",
    "    if delete_db and os.path.exists(db_file):\n",
    "        os.remove(db_file)\n",
    "\n",
    "    conn = None\n",
    "    try:\n",
    "        conn = sqlite3.connect(db_file)\n",
    "        conn.execute(\"PRAGMA foreign_keys = 1\")\n",
    "    except Error as e:\n",
    "        print(e)\n",
    "\n",
    "    return conn\n",
    "\n",
    "\n",
    "def create_table(create_table_sql, conn):\n",
    "    try:\n",
    "        c = conn.cursor()\n",
    "        c.execute(create_table_sql)\n",
    "    except Error as e:\n",
    "        print(e)\n",
    "        \n",
    "def execute_sql_statement(sql_statement, conn):\n",
    "    cur = conn.cursor()\n",
    "    cur.execute(sql_statement)\n",
    "\n",
    "    rows = cur.fetchall()\n",
    "\n",
    "    return rows"
   ]
  },
  {
   "cell_type": "code",
   "execution_count": 2,
   "id": "caab4f5d-9c69-4992-b6ce-8cb51d576de9",
   "metadata": {},
   "outputs": [],
   "source": [
    "conn = create_connection(\"normalized_ppg6.db\", delete_db=True)"
   ]
  },
  {
   "cell_type": "code",
   "execution_count": 3,
   "id": "173cc466-0ce0-41cb-94e9-147bdf059728",
   "metadata": {},
   "outputs": [],
   "source": [
    "import os\n",
    "def loadFiles(foldername='Datasets', fileformat='.csv'):\n",
    "    csvfiles = list(filter(lambda f: f.endswith(f'{fileformat}'), os.listdir(f'./{foldername}')))\n",
    "    csvfiles = [os.path.abspath(f\"{foldername}/{file}\") for file in csvfiles]\n",
    "    return(csvfiles)\n",
    "\n",
    "csvfiles = loadFiles()"
   ]
  },
  {
   "cell_type": "code",
   "execution_count": 4,
   "id": "dbca7075-d326-45dd-92a8-91c05f3a9a78",
   "metadata": {},
   "outputs": [],
   "source": [
    "%%capture\n",
    "def loadDatabase(file_list=csvfiles, connx=conn, overwrite=True):\n",
    "    for filepath in file_list:\n",
    "        df = pd.read_csv(filepath)\n",
    "        filename = os.path.basename(filepath)\n",
    "        table_name = filename.rsplit('.',1)[0]\n",
    "        write_mode = 'replace' if overwrite else 'append'\n",
    "        df.to_sql(table_name, connx, if_exists=write_mode, index=False)\n",
    "\n",
    "loadDatabase()"
   ]
  },
  {
   "cell_type": "code",
   "execution_count": null,
   "id": "7f6ad8ec-655c-4a3b-9dce-e9400c3fab1b",
   "metadata": {},
   "outputs": [],
   "source": []
  }
 ],
 "metadata": {
  "kernelspec": {
   "display_name": "Python 3 (ipykernel)",
   "language": "python",
   "name": "python3"
  },
  "language_info": {
   "codemirror_mode": {
    "name": "ipython",
    "version": 3
   },
   "file_extension": ".py",
   "mimetype": "text/x-python",
   "name": "python",
   "nbconvert_exporter": "python",
   "pygments_lexer": "ipython3",
   "version": "3.9.9"
  },
  "toc-autonumbering": false
 },
 "nbformat": 4,
 "nbformat_minor": 5
}
